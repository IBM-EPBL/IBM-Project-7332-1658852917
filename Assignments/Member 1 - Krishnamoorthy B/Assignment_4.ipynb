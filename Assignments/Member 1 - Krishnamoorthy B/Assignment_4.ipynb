{
  "cells": [
    {
      "cell_type": "markdown",
      "metadata": {
        "id": "RW08bZ9iOI9g"
      },
      "source": [
        "# ASSIGNMENT 4\n",
        "\n",
        "**Assignment Date**     : 28 October 2022\\\n",
        "**Student Name**        : Krishnamoorthy B\\\n",
        "**Student Roll Number** : 722819104065\\\n",
        "**Maximum Marks**       : 2 Marks"
      ]
    },
    {
      "cell_type": "markdown",
      "metadata": {
        "id": "IIENLSw8OI9i"
      },
      "source": [
        "**Problem Statement**:\\\n",
        "Over recent years, as the popularity of mobile phone devices has increased, Short\n",
        "Message Service (SMS) has grown into a multi-billion dollar industry. At the same time,\n",
        "reduction in the cost of messaging services has resulted in growth in unsolicited\n",
        "commercial advertisements (spams) being sent to mobile phones. Due to Spam SMS,\n",
        "Mobile service providers suffer from some sort of financial problems as well as it reduces\n",
        "calling time for users. Unfortunately, if the user accesses such Spam SMS they may face\n",
        "the problem of virus or malware. When SMS arrives at mobile it will disturb mobile user\n",
        "privacy and concentration. It may lead to frustration for the user. So Spam SMS is one of\n",
        "the major issues in the wireless communication world and it grows day by day."
      ]
    },
    {
      "cell_type": "markdown",
      "metadata": {
        "id": "MEM8_Yc0OI9i"
      },
      "source": [
        "**Perform the Below Tasks to complete the assignment**:-\\\n",
        "● Download the Dataset:- Dataset\\\n",
        "● Import required library\\\n",
        "● Read dataset and do pre-processing\\\n",
        "● Create Model\\\n",
        "● Add Layers (LSTM, Dense-(Hidden Layers), Output)\\\n",
        "● Compile the Model\\\n",
        "● Fit the Model\\\n",
        "● Save The Model\\\n",
        "● Test The Model"
      ]
    },
    {
      "cell_type": "markdown",
      "metadata": {
        "id": "F-gFFhC75oDF"
      },
      "source": [
        "## 1.DOWNLOAD THE DATASET"
      ]
    },
    {
      "cell_type": "markdown",
      "metadata": {
        "id": "A_F4VvGJ5xVf"
      },
      "source": [
        "## 2. IMPORT REQUIRED LIBRARIES"
      ]
    },
    {
      "cell_type": "code",
      "execution_count": null,
      "metadata": {
        "id": "AhxgfHg20K8S"
      },
      "outputs": [],
      "source": [
        "import pandas as pd\n",
        "import numpy as np\n",
        "from sklearn.model_selection import train_test_split\n",
        "from sklearn.preprocessing import LabelEncoder\n",
        "from tensorflow import keras\n",
        "from keras.models import Model\n",
        "from keras.layers import LSTM, Activation, Dense, Dropout, Input, Embedding\n",
        "from tensorflow.keras.optimizers import RMSprop\n",
        "from tensorflow.keras.preprocessing.text import Tokenizer\n",
        "from keras_preprocessing import sequence\n",
        "from tensorflow.keras.utils import to_categorical\n",
        "from keras.models import load_model"
      ]
    },
    {
      "cell_type": "markdown",
      "metadata": {
        "id": "6QFdw2ky6GFj"
      },
      "source": [
        "## 3. READ DATASET AND PREPROCESS"
      ]
    },
    {
      "cell_type": "code",
      "execution_count": null,
      "metadata": {
        "colab": {
          "base_uri": "https://localhost:8080/",
          "height": 206
        },
        "id": "Fc4TiPQi0V3o",
        "outputId": "9940b832-82be-42c2-ec63-12afe4f5b4b4"
      },
      "outputs": [
        {
          "data": {
            "text/html": [
              "<div>\n",
              "<style scoped>\n",
              "    .dataframe tbody tr th:only-of-type {\n",
              "        vertical-align: middle;\n",
              "    }\n",
              "\n",
              "    .dataframe tbody tr th {\n",
              "        vertical-align: top;\n",
              "    }\n",
              "\n",
              "    .dataframe thead th {\n",
              "        text-align: right;\n",
              "    }\n",
              "</style>\n",
              "<table border=\"1\" class=\"dataframe\">\n",
              "  <thead>\n",
              "    <tr style=\"text-align: right;\">\n",
              "      <th></th>\n",
              "      <th>v1</th>\n",
              "      <th>v2</th>\n",
              "      <th>Unnamed: 2</th>\n",
              "      <th>Unnamed: 3</th>\n",
              "      <th>Unnamed: 4</th>\n",
              "    </tr>\n",
              "  </thead>\n",
              "  <tbody>\n",
              "    <tr>\n",
              "      <th>0</th>\n",
              "      <td>ham</td>\n",
              "      <td>Go until jurong point, crazy.. Available only ...</td>\n",
              "      <td>NaN</td>\n",
              "      <td>NaN</td>\n",
              "      <td>NaN</td>\n",
              "    </tr>\n",
              "    <tr>\n",
              "      <th>1</th>\n",
              "      <td>ham</td>\n",
              "      <td>Ok lar... Joking wif u oni...</td>\n",
              "      <td>NaN</td>\n",
              "      <td>NaN</td>\n",
              "      <td>NaN</td>\n",
              "    </tr>\n",
              "    <tr>\n",
              "      <th>2</th>\n",
              "      <td>spam</td>\n",
              "      <td>Free entry in 2 a wkly comp to win FA Cup fina...</td>\n",
              "      <td>NaN</td>\n",
              "      <td>NaN</td>\n",
              "      <td>NaN</td>\n",
              "    </tr>\n",
              "    <tr>\n",
              "      <th>3</th>\n",
              "      <td>ham</td>\n",
              "      <td>U dun say so early hor... U c already then say...</td>\n",
              "      <td>NaN</td>\n",
              "      <td>NaN</td>\n",
              "      <td>NaN</td>\n",
              "    </tr>\n",
              "    <tr>\n",
              "      <th>4</th>\n",
              "      <td>ham</td>\n",
              "      <td>Nah I don't think he goes to usf, he lives aro...</td>\n",
              "      <td>NaN</td>\n",
              "      <td>NaN</td>\n",
              "      <td>NaN</td>\n",
              "    </tr>\n",
              "  </tbody>\n",
              "</table>\n",
              "</div>"
            ],
            "text/plain": [
              "     v1                                                 v2 Unnamed: 2  \\\n",
              "0   ham  Go until jurong point, crazy.. Available only ...        NaN   \n",
              "1   ham                      Ok lar... Joking wif u oni...        NaN   \n",
              "2  spam  Free entry in 2 a wkly comp to win FA Cup fina...        NaN   \n",
              "3   ham  U dun say so early hor... U c already then say...        NaN   \n",
              "4   ham  Nah I don't think he goes to usf, he lives aro...        NaN   \n",
              "\n",
              "  Unnamed: 3 Unnamed: 4  \n",
              "0        NaN        NaN  \n",
              "1        NaN        NaN  \n",
              "2        NaN        NaN  \n",
              "3        NaN        NaN  \n",
              "4        NaN        NaN  "
            ]
          },
          "execution_count": 57,
          "metadata": {},
          "output_type": "execute_result"
        }
      ],
      "source": [
        "df = pd.read_csv('F:\\\\Naalaiya Thiran\\\\spam.csv',delimiter=',',encoding='latin-1')\n",
        "df.head()"
      ]
    },
    {
      "cell_type": "code",
      "execution_count": null,
      "metadata": {
        "colab": {
          "base_uri": "https://localhost:8080/"
        },
        "id": "an70PsYD19xi",
        "outputId": "3b7d966c-744b-4d60-dbfe-67081dbebb66"
      },
      "outputs": [
        {
          "name": "stdout",
          "output_type": "stream",
          "text": [
            "<class 'pandas.core.frame.DataFrame'>\n",
            "RangeIndex: 5572 entries, 0 to 5571\n",
            "Data columns (total 2 columns):\n",
            " #   Column  Non-Null Count  Dtype \n",
            "---  ------  --------------  ----- \n",
            " 0   v1      5572 non-null   object\n",
            " 1   v2      5572 non-null   object\n",
            "dtypes: object(2)\n",
            "memory usage: 87.2+ KB\n"
          ]
        }
      ],
      "source": [
        "df.drop(['Unnamed: 2', 'Unnamed: 3', 'Unnamed: 4'],axis=1,inplace=True) #dropping unwanted columns\n",
        "df.info()"
      ]
    },
    {
      "cell_type": "code",
      "execution_count": null,
      "metadata": {
        "colab": {
          "base_uri": "https://localhost:8080/"
        },
        "id": "WxL4N9F_2HqE",
        "outputId": "01cf03c1-c996-487f-8ba3-f21861ea06ff"
      },
      "outputs": [
        {
          "data": {
            "text/plain": [
              "v1\n",
              "ham     4825\n",
              "spam     747\n",
              "dtype: int64"
            ]
          },
          "execution_count": 59,
          "metadata": {},
          "output_type": "execute_result"
        }
      ],
      "source": [
        "# Count of Spam and Ham values\n",
        "df.groupby(['v1']).size()"
      ]
    },
    {
      "cell_type": "code",
      "execution_count": null,
      "metadata": {
        "id": "e4ZQWj_W2bcK"
      },
      "outputs": [],
      "source": [
        "# Label Encoding target column\n",
        "X = df.v2\n",
        "Y = df.v1\n",
        "le = LabelEncoder()\n",
        "Y = le.fit_transform(Y)\n",
        "Y = Y.reshape(-1,1)"
      ]
    },
    {
      "cell_type": "code",
      "execution_count": null,
      "metadata": {
        "id": "hEhxhtce24k3"
      },
      "outputs": [],
      "source": [
        "# Test and train split\n",
        "X_train,X_test,Y_train,Y_test = train_test_split(X,Y,test_size=0.15)\n",
        "# Tokenisation function\n",
        "max_words = 1000\n",
        "max_len = 150\n",
        "tok = Tokenizer(num_words=max_words)\n",
        "tok.fit_on_texts(X_train)\n",
        "sequences = tok.texts_to_sequences(X_train)\n",
        "\n",
        "sequences_matrix = sequence.pad_sequences(sequences,maxlen=max_len)"
      ]
    },
    {
      "cell_type": "markdown",
      "metadata": {
        "id": "Vxx_0WrK3N-4"
      },
      "source": [
        "## 4. CREATE MODEL and\n",
        "## 5. ADD LAYERS (LSTM, Dense-(Hidden Layers), Output) \n"
      ]
    },
    {
      "cell_type": "code",
      "execution_count": null,
      "metadata": {
        "id": "P7fTXpVe3KBd"
      },
      "outputs": [],
      "source": [
        "\n",
        "# Creating LSTM model\n",
        "inputs = keras.Input(name='InputLayer',shape=[max_len])\n",
        "layer = keras.layers.Embedding(max_words,50,input_length=max_len)(inputs)\n",
        "layer = keras.layers.LSTM(64)(layer)\n",
        "layer = keras.layers.Dense(256,name='FullyConnectedLayer1')(layer)\n",
        "layer = keras.layers.Activation('relu')(layer)\n",
        "layer = keras.layers.Dropout(0.5)(layer)\n",
        "layer = keras.layers.Dense(1,name='OutputLayer')(layer)\n",
        "layer = keras.layers.Activation('sigmoid')(layer)"
      ]
    },
    {
      "cell_type": "markdown",
      "metadata": {
        "id": "WyWbXFun3lNf"
      },
      "source": [
        "## 6.COMPILE THE MODEL\n"
      ]
    },
    {
      "cell_type": "code",
      "execution_count": null,
      "metadata": {
        "colab": {
          "base_uri": "https://localhost:8080/"
        },
        "id": "A_v1Lyb23wlW",
        "outputId": "21f5d545-b4ca-4148-ac47-2dd0e350fc4d"
      },
      "outputs": [
        {
          "name": "stdout",
          "output_type": "stream",
          "text": [
            "Model: \"model_1\"\n",
            "_________________________________________________________________\n",
            "Layer (type)                 Output Shape              Param #   \n",
            "=================================================================\n",
            "InputLayer (InputLayer)      [(None, 150)]             0         \n",
            "_________________________________________________________________\n",
            "embedding_6 (Embedding)      (None, 150, 50)           50000     \n",
            "_________________________________________________________________\n",
            "lstm_5 (LSTM)                (None, 64)                29440     \n",
            "_________________________________________________________________\n",
            "FullyConnectedLayer1 (Dense) (None, 256)               16640     \n",
            "_________________________________________________________________\n",
            "activation_4 (Activation)    (None, 256)               0         \n",
            "_________________________________________________________________\n",
            "dropout_3 (Dropout)          (None, 256)               0         \n",
            "_________________________________________________________________\n",
            "OutputLayer (Dense)          (None, 1)                 257       \n",
            "_________________________________________________________________\n",
            "activation_5 (Activation)    (None, 1)                 0         \n",
            "=================================================================\n",
            "Total params: 96,337\n",
            "Trainable params: 96,337\n",
            "Non-trainable params: 0\n",
            "_________________________________________________________________\n"
          ]
        }
      ],
      "source": [
        "model = keras.models.Model(inputs=inputs,outputs=layer)\n",
        "model.summary()\n",
        "model.compile(loss='binary_crossentropy',optimizer=RMSprop(),metrics=['accuracy'])"
      ]
    },
    {
      "cell_type": "markdown",
      "metadata": {
        "id": "RcxLt_Xn3-Hj"
      },
      "source": [
        "## 7.FIT THE MODEL"
      ]
    },
    {
      "cell_type": "code",
      "execution_count": null,
      "metadata": {
        "colab": {
          "base_uri": "https://localhost:8080/"
        },
        "id": "sMox5xrG4KOF",
        "outputId": "38f214b5-fd0d-4e95-d91e-b40122599efb"
      },
      "outputs": [
        {
          "name": "stdout",
          "output_type": "stream",
          "text": [
            "Epoch 1/10\n",
            "30/30 [==============================] - 8s 200ms/step - loss: 0.3249 - accuracy: 0.8672 - val_loss: 0.1444 - val_accuracy: 0.9494\n",
            "Epoch 2/10\n",
            "30/30 [==============================] - 5s 151ms/step - loss: 0.0966 - accuracy: 0.9776 - val_loss: 0.0465 - val_accuracy: 0.9863\n",
            "Epoch 3/10\n",
            "30/30 [==============================] - 5s 158ms/step - loss: 0.0534 - accuracy: 0.9847 - val_loss: 0.0374 - val_accuracy: 0.9884\n",
            "Epoch 4/10\n",
            "30/30 [==============================] - 5s 157ms/step - loss: 0.0405 - accuracy: 0.9889 - val_loss: 0.0285 - val_accuracy: 0.9905\n",
            "Epoch 5/10\n",
            "30/30 [==============================] - 5s 165ms/step - loss: 0.0311 - accuracy: 0.9913 - val_loss: 0.0338 - val_accuracy: 0.9895\n",
            "Epoch 6/10\n",
            "30/30 [==============================] - 5s 183ms/step - loss: 0.0226 - accuracy: 0.9923 - val_loss: 0.0355 - val_accuracy: 0.9895\n",
            "Epoch 7/10\n",
            "30/30 [==============================] - 5s 181ms/step - loss: 0.0205 - accuracy: 0.9939 - val_loss: 0.0454 - val_accuracy: 0.9852\n",
            "Epoch 8/10\n",
            "30/30 [==============================] - 6s 185ms/step - loss: 0.0142 - accuracy: 0.9963 - val_loss: 0.0421 - val_accuracy: 0.9895\n",
            "Epoch 9/10\n",
            "30/30 [==============================] - 6s 191ms/step - loss: 0.0116 - accuracy: 0.9966 - val_loss: 0.0408 - val_accuracy: 0.9905\n",
            "Epoch 10/10\n",
            "30/30 [==============================] - 5s 181ms/step - loss: 0.0084 - accuracy: 0.9976 - val_loss: 0.0495 - val_accuracy: 0.9905\n"
          ]
        },
        {
          "data": {
            "text/plain": [
              "<tensorflow.python.keras.callbacks.History at 0x25fca5695b0>"
            ]
          },
          "execution_count": 64,
          "metadata": {},
          "output_type": "execute_result"
        }
      ],
      "source": [
        "model.fit(sequences_matrix,Y_train,batch_size=128,epochs=10,\n",
        "          validation_split=0.2)"
      ]
    },
    {
      "cell_type": "markdown",
      "metadata": {
        "id": "cAqsdvpu4cUR"
      },
      "source": [
        "## 8.SAVE THE MODEL"
      ]
    },
    {
      "cell_type": "code",
      "execution_count": null,
      "metadata": {
        "colab": {
          "base_uri": "https://localhost:8080/"
        },
        "id": "74VhldP54waE",
        "outputId": "3d028fc5-80f9-40a4-8fdf-05e62108cac1"
      },
      "outputs": [
        {
          "name": "stderr",
          "output_type": "stream",
          "text": [
            "WARNING:absl:Function `_wrapped_model` contains input name(s) InputLayer with unsupported characters which will be renamed to inputlayer in the SavedModel.\n",
            "WARNING:absl:Found untraced functions such as lstm_cell_5_layer_call_and_return_conditional_losses, lstm_cell_5_layer_call_fn, lstm_cell_5_layer_call_fn, lstm_cell_5_layer_call_and_return_conditional_losses, lstm_cell_5_layer_call_and_return_conditional_losses while saving (showing 5 of 5). These functions will not be directly callable after loading.\n"
          ]
        },
        {
          "name": "stdout",
          "output_type": "stream",
          "text": [
            "INFO:tensorflow:Assets written to: my_model\\assets\n"
          ]
        },
        {
          "name": "stderr",
          "output_type": "stream",
          "text": [
            "INFO:tensorflow:Assets written to: my_model\\assets\n"
          ]
        }
      ],
      "source": [
        "\n",
        "model.save('my_model')"
      ]
    },
    {
      "cell_type": "markdown",
      "metadata": {
        "id": "EhgPVym15D65"
      },
      "source": [
        "## 9.TEST THE MODEL"
      ]
    },
    {
      "cell_type": "code",
      "execution_count": null,
      "metadata": {
        "colab": {
          "base_uri": "https://localhost:8080/"
        },
        "id": "FHWpYgfl473A",
        "outputId": "3356d2f8-26cd-4311-dc15-f2f5043b2624"
      },
      "outputs": [
        {
          "name": "stdout",
          "output_type": "stream",
          "text": [
            "27/27 [==============================] - 1s 19ms/step - loss: 0.0495 - accuracy: 0.9868\n",
            "Accuracy: 0.987\n"
          ]
        }
      ],
      "source": [
        "test_sequences = tok.texts_to_sequences(X_test)\n",
        "test_sequences_matrix  = sequence.pad_sequences(test_sequences,maxlen=max_len)\n",
        "accuracy = model.evaluate(test_sequences_matrix,Y_test)\n",
        "print('Accuracy: {:0.3f}'.format(accuracy[1]))"
      ]
    },
    {
      "cell_type": "code",
      "execution_count": null,
      "metadata": {
        "colab": {
          "base_uri": "https://localhost:8080/"
        },
        "id": "zPxG1l865M_2",
        "outputId": "ff53f62b-9669-45c4-a587-7bdd0561475a"
      },
      "outputs": [
        {
          "name": "stdout",
          "output_type": "stream",
          "text": [
            "[[0.001]\n",
            " [0.   ]\n",
            " [0.005]\n",
            " [0.   ]\n",
            " [1.   ]\n",
            " [1.   ]\n",
            " [0.017]\n",
            " [0.   ]\n",
            " [1.   ]\n",
            " [1.   ]\n",
            " [0.003]\n",
            " [0.   ]\n",
            " [1.   ]\n",
            " [0.   ]\n",
            " [0.   ]]\n"
          ]
        }
      ],
      "source": [
        "y_pred = model.predict(test_sequences_matrix)\n",
        "print(y_pred[25:40].round(3))"
      ]
    },
    {
      "cell_type": "code",
      "execution_count": null,
      "metadata": {
        "colab": {
          "base_uri": "https://localhost:8080/"
        },
        "id": "udSG652W5bzp",
        "outputId": "7b94d452-f856-45b6-bd01-a47743cdbd01"
      },
      "outputs": [
        {
          "name": "stdout",
          "output_type": "stream",
          "text": [
            "[[0]\n",
            " [0]\n",
            " [0]\n",
            " [0]\n",
            " [1]\n",
            " [1]\n",
            " [1]\n",
            " [0]\n",
            " [1]\n",
            " [1]\n",
            " [0]\n",
            " [0]\n",
            " [1]\n",
            " [0]\n",
            " [0]]\n"
          ]
        }
      ],
      "source": [
        "print(Y_test[25:40])"
      ]
    }
  ],
  "metadata": {
    "colab": {
      "collapsed_sections": [],
      "provenance": []
    },
    "kernelspec": {
      "display_name": "Python 3 (ipykernel)",
      "language": "python",
      "name": "python3"
    },
    "language_info": {
      "codemirror_mode": {
        "name": "ipython",
        "version": 3
      },
      "file_extension": ".py",
      "mimetype": "text/x-python",
      "name": "python",
      "nbconvert_exporter": "python",
      "pygments_lexer": "ipython3",
      "version": "3.9.12"
    }
  },
  "nbformat": 4,
  "nbformat_minor": 0
}